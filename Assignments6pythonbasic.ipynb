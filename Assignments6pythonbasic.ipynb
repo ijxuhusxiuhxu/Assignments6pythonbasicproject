{
  "nbformat": 4,
  "nbformat_minor": 0,
  "metadata": {
    "colab": {
      "provenance": [],
      "toc_visible": true
    },
    "kernelspec": {
      "name": "python3",
      "display_name": "Python 3"
    },
    "language_info": {
      "name": "python"
    }
  },
  "cells": [
    {
      "cell_type": "markdown",
      "source": [
        "#Q1.What are escape characters, and how do you use them?"
      ],
      "metadata": {
        "id": "3af2bxh3t3Ga"
      }
    },
    {
      "cell_type": "code",
      "execution_count": 1,
      "metadata": {
        "colab": {
          "base_uri": "https://localhost:8080/"
        },
        "id": "oa-7qVHBttyv",
        "outputId": "885a8147-9200-4d54-9ea3-c7f79df98537"
      },
      "outputs": [
        {
          "output_type": "stream",
          "name": "stdout",
          "text": [
            "Hello\n",
            "World\n",
            "This\tis\ttabbed\n",
            "I'm including a backslash: \\\n",
            "She said, \"Hello!\"\n"
          ]
        }
      ],
      "source": [
        "#Escape characters are typically preceded by a backslash \\ to indicate that the following character should be treated in a special way. Here are some common escape characters and their meanings:\n",
        "#\\n: Represents a newline character. When included in a string, it moves the cursor to the beginning of the next line.\n",
        "#\\t: Represents a tab character. It is used to create horizontal spacing or indentation within the text.\n",
        "#\\: Represents a literal backslash character. This is used when you want to include an actual backslash in a string.\n",
        "#': Represents a single quote character. Useful when you want to include a single quote within a string that is enclosed in single quotes.\n",
        "#\": Represents a double quote character. Useful when you want to include a double quote within a string that is enclosed in double quotes.\n",
        "#\\r: Represents a carriage return character. It is used to move the cursor to the beginning of the current line.\n",
        "#\\b: Represents a backspace character. It can be used to remove the character before the backspace in a string.\n",
        "#\\f: Represents a form feed character. It is used to advance the printer to the next logical page or to perform other formatting actions.\n",
        "#Here's an example of how escape characters are used in Python:\n",
        "print(\"Hello\\nWorld\")\n",
        "print(\"This\\tis\\ttabbed\")\n",
        "print(\"I'm including a backslash: \\\\\")\n",
        "print(\"She said, \\\"Hello!\\\"\")\n",
        "#Escape characters help programmers work with special characters and control sequences, making it easier to manipulate and display various text formats within code."
      ]
    },
    {
      "cell_type": "markdown",
      "source": [
        "#Q2.What do the escape characters n and t stand for?"
      ],
      "metadata": {
        "id": "AmvbuWggvj3s"
      }
    },
    {
      "cell_type": "code",
      "source": [
        "#The escape characters \\n and \\t stand for \"newline\" and \"tab,\" respectively.\n",
        "#\\n (Newline): When encountered in a string, it represents a special character that indicates a line break or a new line.\n",
        "\n",
        "#\\t (Tab): When encountered in a string, it represents a special character that indicates a horizontal tabulation or indentation.\n",
        "print(\"Hello\\nWorld\")\n",
        "print(\"Name:\\tJohn\")\n",
        "print(\"Age:\\t30\")"
      ],
      "metadata": {
        "colab": {
          "base_uri": "https://localhost:8080/"
        },
        "id": "fQkdAvD5tzvl",
        "outputId": "6f99cdce-39b1-427c-ed4e-0bbe76f5334c"
      },
      "execution_count": 2,
      "outputs": [
        {
          "output_type": "stream",
          "name": "stdout",
          "text": [
            "Hello\n",
            "World\n",
            "Name:\tJohn\n",
            "Age:\t30\n"
          ]
        }
      ]
    },
    {
      "cell_type": "markdown",
      "source": [
        "#Q3.What is the way to include backslash characters in a string?"
      ],
      "metadata": {
        "id": "27oPKZlywKYK"
      }
    },
    {
      "cell_type": "code",
      "source": [
        "#To include a backslash \\ character in a string, you need to use an escape character itself, which is another backslash. So, to have a single backslash in your string, you would use \\\\. This is because a single backslash is usually used to escape special characters, and to include a literal backslash, you need to escape it with another backslash\n",
        "print(\"This is a backslash: \\\\\")"
      ],
      "metadata": {
        "colab": {
          "base_uri": "https://localhost:8080/"
        },
        "id": "NClhIeYstzz0",
        "outputId": "5493d071-08fe-4eea-e490-3c0ac938ece8"
      },
      "execution_count": 3,
      "outputs": [
        {
          "output_type": "stream",
          "name": "stdout",
          "text": [
            "This is a backslash: \\\n"
          ]
        }
      ]
    },
    {
      "cell_type": "markdown",
      "source": [
        "#Q4.The string &quot;Howl&#39;s Moving Castle&quot; is a correct value. Why isn&#39;t the single quote character in the\n",
        "word Howl&#39;s not escaped a problem?"
      ],
      "metadata": {
        "id": "zThRM6o1whsm"
      }
    },
    {
      "cell_type": "code",
      "source": [
        "#The reason the single quote character in the string \"Howl's Moving Castle\" is not causing an issue is because the string appears to be encoded using HTML or XML character references. In HTML and XML, character references are used to represent characters that have special meanings, such as <, >, &, and characters that might conflict with the syntax of the document.\n",
        "#In this case, the character reference &#39; represents the single quote character ('). So, the string \"Howl's Moving Castle\" is equivalent to \"Howl's Moving Castle\" once it's decoded, with the &#39; being interpreted as a single quote."
      ],
      "metadata": {
        "id": "KcfpEUm2tz2b"
      },
      "execution_count": null,
      "outputs": []
    },
    {
      "cell_type": "markdown",
      "source": [
        "#Q5.How do you write a string of newlines if you don&#39;t want to use the n character?"
      ],
      "metadata": {
        "id": "YLMcyW2bxDxB"
      }
    },
    {
      "cell_type": "code",
      "source": [
        "multiline_string = \"Line 1\\nLine 2\\nLine 3\"\n",
        "print(multiline_string)"
      ],
      "metadata": {
        "colab": {
          "base_uri": "https://localhost:8080/"
        },
        "id": "tv3G9ltEtz4w",
        "outputId": "c37b4e98-9383-4f7a-c3a7-fc80f73b014f"
      },
      "execution_count": 5,
      "outputs": [
        {
          "output_type": "stream",
          "name": "stdout",
          "text": [
            "Line 1\n",
            "Line 2\n",
            "Line 3\n"
          ]
        }
      ]
    },
    {
      "cell_type": "markdown",
      "source": [
        "#Q6.What are the values of the given expressions?\n",
        "&#39;Hello, world!&#39;[1]\n",
        "&#39;Hello, world!&#39;[0:5]\n",
        "&#39;Hello, world!&#39;[:5]\n",
        "&#39;Hello, world!&#39;[3:]"
      ],
      "metadata": {
        "id": "o5fhmNIlxfVP"
      }
    },
    {
      "cell_type": "code",
      "source": [
        "#Hello, world!'[1]: This expression accesses the character at index 1 in the string 'Hello, world!', which is the character 'e'\n",
        "a = \"Hello world\"\n",
        "a[1]"
      ],
      "metadata": {
        "colab": {
          "base_uri": "https://localhost:8080/",
          "height": 35
        },
        "id": "wnKTIUN9tz7k",
        "outputId": "ce840e99-cdfb-412e-a548-c48e6005ba0e"
      },
      "execution_count": 9,
      "outputs": [
        {
          "output_type": "execute_result",
          "data": {
            "text/plain": [
              "'e'"
            ],
            "application/vnd.google.colaboratory.intrinsic+json": {
              "type": "string"
            }
          },
          "metadata": {},
          "execution_count": 9
        }
      ]
    },
    {
      "cell_type": "code",
      "source": [
        "##Hello, world!'[0:5]: This expression retrieves a substring from index 0 to index 4 (5 - 1) from the string 'Hello, world!'. The substring will include characters at indices 0, 1, 2, 3, and 4. So, the value of this expression is 'Hello'\n",
        "a[0:5]"
      ],
      "metadata": {
        "colab": {
          "base_uri": "https://localhost:8080/",
          "height": 35
        },
        "id": "8X3SACRltz-H",
        "outputId": "ee11d2a9-259c-4fec-c65b-e3a39d9c60eb"
      },
      "execution_count": 10,
      "outputs": [
        {
          "output_type": "execute_result",
          "data": {
            "text/plain": [
              "'Hello'"
            ],
            "application/vnd.google.colaboratory.intrinsic+json": {
              "type": "string"
            }
          },
          "metadata": {},
          "execution_count": 10
        }
      ]
    },
    {
      "cell_type": "code",
      "source": [
        "#'Hello, world!'[:5]: This expression is similar to the previous one but omits the starting index. When the starting index is omitted, it defaults to 0. So, this expression is equivalent to 'Hello, world!'[0:5], and the value is 'Hello'\n",
        "a[:5]"
      ],
      "metadata": {
        "colab": {
          "base_uri": "https://localhost:8080/",
          "height": 35
        },
        "id": "GlooKIpWt0AI",
        "outputId": "8d27418b-4923-41dd-cd34-a6075bb97b0a"
      },
      "execution_count": 11,
      "outputs": [
        {
          "output_type": "execute_result",
          "data": {
            "text/plain": [
              "'Hello'"
            ],
            "application/vnd.google.colaboratory.intrinsic+json": {
              "type": "string"
            }
          },
          "metadata": {},
          "execution_count": 11
        }
      ]
    },
    {
      "cell_type": "code",
      "source": [
        "#'Hello, world!'[3:]: This expression retrieves a substring from index 3 to the end of the string 'Hello, world!'. The substring will include characters at indices 3, 4, 5, ..., up to the end of the string. So, the value of this expression is 'lo, world!'.\n",
        "a[3:]"
      ],
      "metadata": {
        "colab": {
          "base_uri": "https://localhost:8080/",
          "height": 35
        },
        "id": "Gclktu2Wt0CR",
        "outputId": "dd4aae0e-e7d3-457b-d7e3-7bd9c1640768"
      },
      "execution_count": 12,
      "outputs": [
        {
          "output_type": "execute_result",
          "data": {
            "text/plain": [
              "'lo world'"
            ],
            "application/vnd.google.colaboratory.intrinsic+json": {
              "type": "string"
            }
          },
          "metadata": {},
          "execution_count": 12
        }
      ]
    },
    {
      "cell_type": "code",
      "source": [
        "#'Hello, world!'[1] evaluates to 'e'.\n",
        "#'Hello, world!'[0:5] evaluates to 'Hello'.\n",
        "#'Hello, world!'[:5] also evaluates to 'Hello'.\n",
        "#'Hello, world!'[3:] evaluates to 'lo, world!'."
      ],
      "metadata": {
        "id": "dpKBKr_St0El"
      },
      "execution_count": null,
      "outputs": []
    },
    {
      "cell_type": "markdown",
      "source": [
        "#Q7.What are the values of the following expressions?\n",
        "&#39;Hello&#39;.upper()\n",
        "&#39;Hello&#39;.upper().isupper()\n",
        "&#39;Hello&#39;.upper().lower()"
      ],
      "metadata": {
        "id": "BK807twTy17g"
      }
    },
    {
      "cell_type": "code",
      "source": [
        "#'Hello'.upper() evaluates to 'HELLO'.\n",
        "'Hello'.upper()"
      ],
      "metadata": {
        "colab": {
          "base_uri": "https://localhost:8080/",
          "height": 35
        },
        "id": "wkzasCNyt0G2",
        "outputId": "856176e5-209e-4cd0-b21d-185b654b9b38"
      },
      "execution_count": 14,
      "outputs": [
        {
          "output_type": "execute_result",
          "data": {
            "text/plain": [
              "'HELLO'"
            ],
            "application/vnd.google.colaboratory.intrinsic+json": {
              "type": "string"
            }
          },
          "metadata": {},
          "execution_count": 14
        }
      ]
    },
    {
      "cell_type": "code",
      "source": [
        "#'Hello'.upper().isupper() evaluates to True.\n",
        "'Hello'.upper().isupper()"
      ],
      "metadata": {
        "colab": {
          "base_uri": "https://localhost:8080/"
        },
        "id": "2N9642xxt0JN",
        "outputId": "f3c4f7e2-ff62-4821-fef8-128ae5934df5"
      },
      "execution_count": 15,
      "outputs": [
        {
          "output_type": "execute_result",
          "data": {
            "text/plain": [
              "True"
            ]
          },
          "metadata": {},
          "execution_count": 15
        }
      ]
    },
    {
      "cell_type": "code",
      "source": [
        "#'Hello'.upper().lower() evaluates to 'hello'\n",
        "'Hello'.upper().lower()"
      ],
      "metadata": {
        "colab": {
          "base_uri": "https://localhost:8080/",
          "height": 35
        },
        "id": "mxnaxqS_t0Lr",
        "outputId": "8093dff3-07d1-4d32-fccd-47ff569a7a66"
      },
      "execution_count": 16,
      "outputs": [
        {
          "output_type": "execute_result",
          "data": {
            "text/plain": [
              "'hello'"
            ],
            "application/vnd.google.colaboratory.intrinsic+json": {
              "type": "string"
            }
          },
          "metadata": {},
          "execution_count": 16
        }
      ]
    },
    {
      "cell_type": "markdown",
      "source": [
        "#Q8.What are the values of the following expressions?\n",
        "&#39;Remember, remember, the fifth of July.&#39;.split()\n",
        "&#39;-&#39;.join(&#39;There can only one.&#39;.split())"
      ],
      "metadata": {
        "id": "c-0Gjw2rz5EQ"
      }
    },
    {
      "cell_type": "code",
      "source": [
        "#'Remember, remember, the fifth of July.'.split(): This expression uses the split() method with no arguments on the provided string. By default, split() splits the string at whitespace characters and returns a list of words. So, the value of this expression would be a list of words: ['Remember,', 'remember,', 'the', 'fifth', 'of', 'July.']\n",
        "#'-'.join('There can only one.'.split()): This expression first uses the split() method on the given string, which splits the string into words at whitespace characters. So, the result of 'There can only one.'.split() would be ['There', 'can', 'only', 'one.']. Then, the join() method is used to join the elements of the list with the delimiter -. The result would be a single string: 'There-can-only-one.'.\n",
        "\n",
        "#Remember, remember, the fifth of July.'.split() evaluates to ['Remember,', 'remember,', 'the', 'fifth', 'of', 'July.'].\n",
        "#'-'.join('There can only one.'.split()) evaluates to 'There-can-only-one.'."
      ],
      "metadata": {
        "id": "pCbiaHSxt0OH"
      },
      "execution_count": null,
      "outputs": []
    },
    {
      "cell_type": "markdown",
      "source": [
        "#Q9.What are the methods for right-justifying, left-justifying, and centering a string?"
      ],
      "metadata": {
        "id": "shSo_Wdf0Ppn"
      }
    },
    {
      "cell_type": "code",
      "source": [
        "#Right-Justifying: This aligns the string to the right within a fixed-width field.\n",
        "#Method: str.rjust(width, fillchar)\n",
        "#width: The total width of the field.\n",
        "#fillchar (optional): The character used to fill any extra space on the left side. Defaults to a space.\n",
        "text = \"Hello\"\n",
        "justified_text = text.rjust(10, '-')\n",
        "# justified_text will be \"-----Hello\"\n"
      ],
      "metadata": {
        "id": "cVekElrJt0QP"
      },
      "execution_count": 17,
      "outputs": []
    },
    {
      "cell_type": "code",
      "source": [
        "#Left-Justifying: This aligns the string to the left within a fixed-width field.\n",
        "#Method: str.ljust(width, fillchar)\n",
        "#width: The total width of the field.\n",
        "#fillchar (optional): The character used to fill any extra space on the right side. Defaults to a space.\n",
        "text = \"Hello\"\n",
        "justified_text = text.ljust(10, '-')\n",
        "# justified_text will be \"Hello-----\"\n"
      ],
      "metadata": {
        "id": "dqKautt-t0Si"
      },
      "execution_count": 18,
      "outputs": []
    },
    {
      "cell_type": "code",
      "source": [
        "#Centering: This centers the string within a fixed-width field.\n",
        "#Method: str.center(width, fillchar)\n",
        "#width: The total width of the field.\n",
        "#fillchar (optional): The character used to fill any extra space on the sides. Defaults to a space.\n",
        "text = \"Hello\"\n",
        "centered_text = text.center(10, '-')\n",
        "# centered_text will be \"--Hello---\"\n"
      ],
      "metadata": {
        "id": "kTkoJFGbt0WQ"
      },
      "execution_count": 19,
      "outputs": []
    },
    {
      "cell_type": "markdown",
      "source": [
        "#Q10.What is the best way to remove whitespace characters from the start or end?"
      ],
      "metadata": {
        "id": "ml-irgdX1B7w"
      }
    },
    {
      "cell_type": "code",
      "source": [
        "#The best way to remove whitespace characters from the start or end of a string is to use the strip() method. This method is available in most programming languages and is designed specifically for this purpose.\n",
        "text = \"  Hello, world!  \"\n",
        "result = text.strip()\n",
        "print(text)\n",
        "# result will be \"Hello, world!\"\n"
      ],
      "metadata": {
        "colab": {
          "base_uri": "https://localhost:8080/"
        },
        "id": "-icp1ieRt0Zh",
        "outputId": "2bbd79c6-fd62-4a9c-a9c7-5e761c8a6755"
      },
      "execution_count": 21,
      "outputs": [
        {
          "output_type": "stream",
          "name": "stdout",
          "text": [
            "  Hello, world!  \n"
          ]
        }
      ]
    },
    {
      "cell_type": "code",
      "source": [],
      "metadata": {
        "id": "9RFBugbvt0bi"
      },
      "execution_count": null,
      "outputs": []
    },
    {
      "cell_type": "code",
      "source": [],
      "metadata": {
        "id": "JMmC_-dPt0dt"
      },
      "execution_count": null,
      "outputs": []
    },
    {
      "cell_type": "code",
      "source": [],
      "metadata": {
        "id": "pNajg4ict0gB"
      },
      "execution_count": null,
      "outputs": []
    },
    {
      "cell_type": "code",
      "source": [],
      "metadata": {
        "id": "ivwko-3St0iP"
      },
      "execution_count": null,
      "outputs": []
    },
    {
      "cell_type": "code",
      "source": [],
      "metadata": {
        "id": "6lOIl83rt0ke"
      },
      "execution_count": null,
      "outputs": []
    },
    {
      "cell_type": "code",
      "source": [],
      "metadata": {
        "id": "Wd53fqVOt0nU"
      },
      "execution_count": null,
      "outputs": []
    },
    {
      "cell_type": "code",
      "source": [],
      "metadata": {
        "id": "tboLbSytt0pc"
      },
      "execution_count": null,
      "outputs": []
    },
    {
      "cell_type": "code",
      "source": [],
      "metadata": {
        "id": "wZtrQ3rmt0r8"
      },
      "execution_count": null,
      "outputs": []
    },
    {
      "cell_type": "code",
      "source": [],
      "metadata": {
        "id": "N0gDrO9Ht0uF"
      },
      "execution_count": null,
      "outputs": []
    },
    {
      "cell_type": "code",
      "source": [],
      "metadata": {
        "id": "Y8jLw-KQt0ww"
      },
      "execution_count": null,
      "outputs": []
    }
  ]
}